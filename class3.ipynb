{
 "cells": [
  {
   "cell_type": "code",
   "execution_count": 3,
   "metadata": {},
   "outputs": [
    {
     "name": "stdout",
     "output_type": "stream",
     "text": [
      "Hello\n",
      "Hi\n",
      "Hey\n"
     ]
    }
   ],
   "source": [
    "a=b=c=10 #multiple ifs\n",
    "if a==b:\n",
    " print (\"Hello\")\n",
    "if b==c:\n",
    " print (\"Hi\")\n",
    "if c==a:\n",
    " print (\"Hey\")"
   ]
  },
  {
   "cell_type": "code",
   "execution_count": 4,
   "metadata": {},
   "outputs": [
    {
     "name": "stdout",
     "output_type": "stream",
     "text": [
      "Hey\n"
     ]
    }
   ],
   "source": [
    "a=b=c=10 #multiple ifs\n",
    "if a>b:\n",
    " print (\"Hello\")\n",
    "if b<c:\n",
    " print (\"Hi\")\n",
    "if c==a:\n",
    " print (\"Hey\")"
   ]
  },
  {
   "cell_type": "code",
   "execution_count": 8,
   "metadata": {},
   "outputs": [
    {
     "name": "stdout",
     "output_type": "stream",
     "text": [
      "Hello\n",
      "Hi\n",
      "Hey\n"
     ]
    }
   ],
   "source": [
    "a=b=c=10 #nested ifs\n",
    "if a>=b:\n",
    " print (\"Hello\")\n",
    " if b<=c:\n",
    "  print (\"Hi\")\n",
    " if c==a:\n",
    "  print (\"Hey\")"
   ]
  },
  {
   "cell_type": "code",
   "execution_count": 14,
   "metadata": {},
   "outputs": [
    {
     "name": "stdout",
     "output_type": "stream",
     "text": [
      "DO you have a valid CNICyes\n",
      "Go inside\n",
      "is your name in voter listno\n",
      "You can not  caste vote\n"
     ]
    }
   ],
   "source": [
    "cnic_Status = input(\"DO you have a valid CNIC\")\n",
    "if cnic_Status==\"yes\":\n",
    "    print(\"Go inside\")\n",
    "    name_in_list= input(\"is your name in voter list\")\n",
    "    if name_in_list==\"yes\":\n",
    "        print('you  can caste vote')\n",
    "    else:\n",
    "         print (\"You can not  caste vote\")\n",
    "else:\n",
    " print (\"You can not caste vote\")"
   ]
  },
  {
   "cell_type": "code",
   "execution_count": 20,
   "metadata": {},
   "outputs": [
    {
     "name": "stdout",
     "output_type": "stream",
     "text": [
      "DO you have a valid CNICYes\n",
      "is your name in voter listYEs\n",
      "caste your vote\n"
     ]
    }
   ],
   "source": [
    "cnic_Status = input(\"DO you have a valid CNIC\").lower() #lower is used to convert the input text to lower cases\n",
    "name_in_list= input(\"is your name in voter list\").lower()\n",
    "if ((cnic_Status==\"yes\") and (name_in_list==\"yes\")):\n",
    "    print (\"caste your vote\")\n",
    "else:\n",
    "    print(\"You can not caste vote\")"
   ]
  },
  {
   "cell_type": "code",
   "execution_count": 19,
   "metadata": {},
   "outputs": [
    {
     "data": {
      "text/plain": [
       "'PAKISTAN'"
      ]
     },
     "execution_count": 19,
     "metadata": {},
     "output_type": "execute_result"
    }
   ],
   "source": [
    "name=\"pakistan\"\n",
    "name.upper()"
   ]
  },
  {
   "cell_type": "code",
   "execution_count": 27,
   "metadata": {},
   "outputs": [
    {
     "name": "stdout",
     "output_type": "stream",
     "text": [
      "enter marks34\n",
      "F\n"
     ]
    }
   ],
   "source": [
    "marks= int(input(\"enter marks\"))\n",
    "grade=\"\"\n",
    "if marks>=90:\n",
    "    grade=\"A*\"\n",
    "elif marks>=80:\n",
    "    grade=\"A\"\n",
    "elif marks>=70:\n",
    "    grade=\"B\"\n",
    "elif marks>=60:\n",
    "    grade=\"C\"\n",
    "elif marks>=50:[]\n",
    "    grade=\"D\"\n",
    "elif marks<80:\n",
    "    grade=\"F\"\n",
    "print (grade)"
   ]
  },
  {
   "cell_type": "code",
   "execution_count": 30,
   "metadata": {},
   "outputs": [
    {
     "name": "stdout",
     "output_type": "stream",
     "text": [
      "Enter a charactere\n",
      "The character is vowel\n"
     ]
    }
   ],
   "source": [
    "char=input(\"Enter a character\").lower()\n",
    "\n",
    "if (char==\"a\" or char==\"e\" or char==\"i\" or char==\"o\" or char==\"u\"):\n",
    "    print('The character is vowel')\n",
    "else:\n",
    "    print (\"The chracter is consonanat\")"
   ]
  },
  {
   "cell_type": "markdown",
   "metadata": {},
   "source": [
    "# LIST"
   ]
  },
  {
   "cell_type": "code",
   "execution_count": 31,
   "metadata": {},
   "outputs": [
    {
     "data": {
      "text/plain": [
       "6"
      ]
     },
     "execution_count": 31,
     "metadata": {},
     "output_type": "execute_result"
    }
   ],
   "source": [
    "aList = [\"Asad\", \"Saad\", \"Kami\",\"Fahad\", \"Altaf\", \"Ashir\"]\n",
    "len(aList) #lenth"
   ]
  },
  {
   "cell_type": "code",
   "execution_count": 35,
   "metadata": {},
   "outputs": [],
   "source": [
    "#unlike array list can hold multiple types together \n",
    "list2 = [\"Aplle\",123, False, 123.5 ]"
   ]
  },
  {
   "cell_type": "code",
   "execution_count": 33,
   "metadata": {},
   "outputs": [
    {
     "data": {
      "text/plain": [
       "'Asad'"
      ]
     },
     "execution_count": 33,
     "metadata": {},
     "output_type": "execute_result"
    }
   ],
   "source": [
    "aList[0]"
   ]
  },
  {
   "cell_type": "code",
   "execution_count": 37,
   "metadata": {},
   "outputs": [
    {
     "data": {
      "text/plain": [
       "False"
      ]
     },
     "execution_count": 37,
     "metadata": {},
     "output_type": "execute_result"
    }
   ],
   "source": [
    "list2[2]"
   ]
  },
  {
   "cell_type": "code",
   "execution_count": 38,
   "metadata": {},
   "outputs": [
    {
     "ename": "SyntaxError",
     "evalue": "invalid syntax (<ipython-input-38-ce63cc52d8e1>, line 1)",
     "output_type": "error",
     "traceback": [
      "\u001b[1;36m  File \u001b[1;32m\"<ipython-input-38-ce63cc52d8e1>\"\u001b[1;36m, line \u001b[1;32m1\u001b[0m\n\u001b[1;33m    list2.del[0]\u001b[0m\n\u001b[1;37m            ^\u001b[0m\n\u001b[1;31mSyntaxError\u001b[0m\u001b[1;31m:\u001b[0m invalid syntax\n"
     ]
    }
   ],
   "source": [
    "list2.del[0]"
   ]
  },
  {
   "cell_type": "code",
   "execution_count": 39,
   "metadata": {},
   "outputs": [],
   "source": [
    "list2.append(786) #appended or added value is always at last by default"
   ]
  },
  {
   "cell_type": "code",
   "execution_count": 40,
   "metadata": {},
   "outputs": [
    {
     "data": {
      "text/plain": [
       "786"
      ]
     },
     "execution_count": 40,
     "metadata": {},
     "output_type": "execute_result"
    }
   ],
   "source": [
    "list2[4]"
   ]
  },
  {
   "cell_type": "code",
   "execution_count": 41,
   "metadata": {},
   "outputs": [],
   "source": [
    "list2.insert(2,'Hi') #insert addes the vaue at a position of your choice"
   ]
  },
  {
   "cell_type": "code",
   "execution_count": 42,
   "metadata": {},
   "outputs": [
    {
     "data": {
      "text/plain": [
       "'Hi'"
      ]
     },
     "execution_count": 42,
     "metadata": {},
     "output_type": "execute_result"
    }
   ],
   "source": [
    "list2[2]"
   ]
  },
  {
   "cell_type": "code",
   "execution_count": 44,
   "metadata": {},
   "outputs": [
    {
     "ename": "SyntaxError",
     "evalue": "invalid syntax (<ipython-input-44-cbcc7ff9a78d>, line 1)",
     "output_type": "error",
     "traceback": [
      "\u001b[1;36m  File \u001b[1;32m\"<ipython-input-44-cbcc7ff9a78d>\"\u001b[1;36m, line \u001b[1;32m1\u001b[0m\n\u001b[1;33m    list2.del(2)\u001b[0m\n\u001b[1;37m            ^\u001b[0m\n\u001b[1;31mSyntaxError\u001b[0m\u001b[1;31m:\u001b[0m invalid syntax\n"
     ]
    }
   ],
   "source": [
    "list2.del(2)"
   ]
  },
  {
   "cell_type": "code",
   "execution_count": null,
   "metadata": {},
   "outputs": [],
   "source": []
  }
 ],
 "metadata": {
  "kernelspec": {
   "display_name": "Python 3",
   "language": "python",
   "name": "python3"
  },
  "language_info": {
   "codemirror_mode": {
    "name": "ipython",
    "version": 3
   },
   "file_extension": ".py",
   "mimetype": "text/x-python",
   "name": "python",
   "nbconvert_exporter": "python",
   "pygments_lexer": "ipython3",
   "version": "3.7.3"
  }
 },
 "nbformat": 4,
 "nbformat_minor": 2
}
