{
 "cells": [
  {
   "cell_type": "code",
   "execution_count": 1,
   "metadata": {},
   "outputs": [
    {
     "name": "stdout",
     "output_type": "stream",
     "text": [
      "My name is name and my age is Age\n"
     ]
    }
   ],
   "source": [
    "age=30\n",
    "name=\"Mehmood\"\n",
    "\n",
    "print (\"My name is name and my age is Age\")"
   ]
  },
  {
   "cell_type": "code",
   "execution_count": 5,
   "metadata": {},
   "outputs": [
    {
     "ename": "NameError",
     "evalue": "name 'nname' is not defined",
     "output_type": "error",
     "traceback": [
      "\u001b[1;31m---------------------------------------------------------------------------\u001b[0m",
      "\u001b[1;31mNameError\u001b[0m                                 Traceback (most recent call last)",
      "\u001b[1;32m<ipython-input-5-1c889f5dd33d>\u001b[0m in \u001b[0;36m<module>\u001b[1;34m\u001b[0m\n\u001b[1;32m----> 1\u001b[1;33m \u001b[0mprint\u001b[0m \u001b[1;33m(\u001b[0m\u001b[1;34m\"My name is\"\u001b[0m\u001b[1;33m+\u001b[0m \u001b[0mnname\u001b[0m \u001b[1;33m+\u001b[0m \u001b[1;34m\"and my age is\"\u001b[0m\u001b[1;33m+\u001b[0m\u001b[0mage\u001b[0m\u001b[1;33m)\u001b[0m\u001b[1;33m\u001b[0m\u001b[1;33m\u001b[0m\u001b[0m\n\u001b[0m",
      "\u001b[1;31mNameError\u001b[0m: name 'nname' is not defined"
     ]
    }
   ],
   "source": [
    "print (\"My name is\"+ nname + \"and my age is\"+age)"
   ]
  },
  {
   "cell_type": "code",
   "execution_count": 14,
   "metadata": {},
   "outputs": [
    {
     "name": "stdout",
     "output_type": "stream",
     "text": [
      "My name isMehmoodand my age is30\n"
     ]
    }
   ],
   "source": [
    "age=30\n",
    "name=\"Mehmood\"\n",
    "print (\"My name is\"+ name + \"and my age is\"+ str(age)) #type casting"
   ]
  },
  {
   "cell_type": "code",
   "execution_count": 9,
   "metadata": {},
   "outputs": [
    {
     "name": "stdout",
     "output_type": "stream",
     "text": [
      "My name is Mehmood and my age is 30\n"
     ]
    }
   ],
   "source": [
    "age=30\n",
    "name=\"Mehmood\"\n",
    "print (\"My name is\", name , \"and my age is \",age) #type casting"
   ]
  },
  {
   "cell_type": "code",
   "execution_count": 16,
   "metadata": {},
   "outputs": [
    {
     "name": "stdout",
     "output_type": "stream",
     "text": [
      "Enter Your Age23\n",
      "Enter Your NameMehmood\n",
      "My name is Mehmood and my age is 23\n"
     ]
    }
   ],
   "source": [
    "age=input(\"Enter Your Age\")\n",
    "name=input(\"Enter Your Name\")\n",
    "print (\"My name is \"+ name +\" and my age is \"+ str(age))#type casting"
   ]
  },
  {
   "cell_type": "code",
   "execution_count": 18,
   "metadata": {},
   "outputs": [
    {
     "name": "stdout",
     "output_type": "stream",
     "text": [
      "Enter Your Age23\n",
      "Enter Your NameMehmood\n",
      "My name is Mehmood and my age is 23\n"
     ]
    }
   ],
   "source": [
    "age=int(input(\"Enter Your Age\")) #we typed casted age in int\n",
    "name=input(\"Enter Your Name\")\n",
    "print (\"My name is \"+ name +\" and my age is \"+ str(age))#type casting"
   ]
  },
  {
   "cell_type": "markdown",
   "metadata": {},
   "source": [
    "# String Formatting using Python's .format()"
   ]
  },
  {
   "cell_type": "code",
   "execution_count": 19,
   "metadata": {},
   "outputs": [
    {
     "name": "stdout",
     "output_type": "stream",
     "text": [
      "Enter Your Age23\n",
      "Enter Your NameMehmood\n",
      "My name is Mehmood and my age is 23\n"
     ]
    }
   ],
   "source": [
    "age=input(\"Enter Your Age\")\n",
    "name=input(\"Enter Your Name\")\n",
    "print (\"My name is {} and my age is {}\".format(name,age)) #no need to type cast using ths format"
   ]
  },
  {
   "cell_type": "code",
   "execution_count": 20,
   "metadata": {},
   "outputs": [
    {
     "name": "stdout",
     "output_type": "stream",
     "text": [
      "Enter Your Age23\n",
      "Enter Your NameMehmood\n",
      "My name is 23 and my age is Mehmood\n"
     ]
    }
   ],
   "source": [
    "age=input(\"Enter Your Age\")\n",
    "name=input(\"Enter Your Name\")\n",
    "print (\"My name is {1} and my age is {0}\".format(name,age)) #no need to type cast using ths format"
   ]
  },
  {
   "cell_type": "code",
   "execution_count": 21,
   "metadata": {},
   "outputs": [
    {
     "name": "stdout",
     "output_type": "stream",
     "text": [
      "My name is {name} and my age is {age}\n"
     ]
    }
   ],
   "source": [
    "print (\"My name is {name} and my age is {age}\")"
   ]
  },
  {
   "cell_type": "markdown",
   "metadata": {},
   "source": [
    "# Strring foramtting using pyton's f"
   ]
  },
  {
   "cell_type": "code",
   "execution_count": 22,
   "metadata": {},
   "outputs": [
    {
     "name": "stdout",
     "output_type": "stream",
     "text": [
      "My name is Mehmood and my age is 23\n"
     ]
    }
   ],
   "source": [
    "print (f\"My name is {name} and my age is {age}\")"
   ]
  },
  {
   "cell_type": "markdown",
   "metadata": {},
   "source": [
    "# Math expressions : Familiar Operators"
   ]
  },
  {
   "cell_type": "code",
   "execution_count": 24,
   "metadata": {},
   "outputs": [
    {
     "data": {
      "text/plain": [
       "2"
      ]
     },
     "execution_count": 24,
     "metadata": {},
     "output_type": "execute_result"
    }
   ],
   "source": [
    "5-3"
   ]
  },
  {
   "cell_type": "code",
   "execution_count": 28,
   "metadata": {},
   "outputs": [
    {
     "data": {
      "text/plain": [
       "8"
      ]
     },
     "execution_count": 28,
     "metadata": {},
     "output_type": "execute_result"
    }
   ],
   "source": [
    "4+4"
   ]
  },
  {
   "cell_type": "code",
   "execution_count": 29,
   "metadata": {},
   "outputs": [
    {
     "data": {
      "text/plain": [
       "18"
      ]
     },
     "execution_count": 29,
     "metadata": {},
     "output_type": "execute_result"
    }
   ],
   "source": [
    "6*3"
   ]
  },
  {
   "cell_type": "code",
   "execution_count": 30,
   "metadata": {},
   "outputs": [
    {
     "data": {
      "text/plain": [
       "1.0"
      ]
     },
     "execution_count": 30,
     "metadata": {},
     "output_type": "execute_result"
    }
   ],
   "source": [
    "1/1 #In python devision is by default float"
   ]
  },
  {
   "cell_type": "code",
   "execution_count": 31,
   "metadata": {},
   "outputs": [
    {
     "data": {
      "text/plain": [
       "1"
      ]
     },
     "execution_count": 31,
     "metadata": {},
     "output_type": "execute_result"
    }
   ],
   "source": [
    "1//1 #double back slash for the answer to be integer"
   ]
  },
  {
   "cell_type": "markdown",
   "metadata": {},
   "source": [
    "# Math Expressions : Unfamiliar Operations"
   ]
  },
  {
   "cell_type": "code",
   "execution_count": 32,
   "metadata": {},
   "outputs": [
    {
     "data": {
      "text/plain": [
       "1"
      ]
     },
     "execution_count": 32,
     "metadata": {},
     "output_type": "execute_result"
    }
   ],
   "source": [
    "10%3 #returns reminder of division"
   ]
  },
  {
   "cell_type": "code",
   "execution_count": 37,
   "metadata": {},
   "outputs": [
    {
     "name": "stdout",
     "output_type": "stream",
     "text": [
      "30\n"
     ]
    }
   ],
   "source": [
    "age=20\n",
    "age=age+10\n",
    "print (age)"
   ]
  },
  {
   "cell_type": "code",
   "execution_count": 40,
   "metadata": {},
   "outputs": [],
   "source": [
    "age +=10"
   ]
  },
  {
   "cell_type": "markdown",
   "metadata": {},
   "source": [
    "# If Statements"
   ]
  },
  {
   "cell_type": "code",
   "execution_count": 41,
   "metadata": {},
   "outputs": [
    {
     "data": {
      "text/plain": [
       "True"
      ]
     },
     "execution_count": 41,
     "metadata": {},
     "output_type": "execute_result"
    }
   ],
   "source": [
    "10>4"
   ]
  },
  {
   "cell_type": "code",
   "execution_count": 43,
   "metadata": {},
   "outputs": [
    {
     "data": {
      "text/plain": [
       "False"
      ]
     },
     "execution_count": 43,
     "metadata": {},
     "output_type": "execute_result"
    }
   ],
   "source": [
    "2==1"
   ]
  },
  {
   "cell_type": "code",
   "execution_count": 45,
   "metadata": {},
   "outputs": [
    {
     "name": "stdout",
     "output_type": "stream",
     "text": [
      "Enter 1st number23\n",
      "Enter 2nd number44\n",
      "num2 is greater than num1\n"
     ]
    }
   ],
   "source": [
    "num1 = input (\"Enter 1st number\")\n",
    "num2 = input (\"Enter 2nd number\")\n",
    "if num1>num2:\n",
    "    print (\"num1 is greater than num2\")\n",
    "else :\n",
    "    print (\"num2 is greater than num1\")"
   ]
  },
  {
   "cell_type": "code",
   "execution_count": 54,
   "metadata": {},
   "outputs": [
    {
     "name": "stdout",
     "output_type": "stream",
     "text": [
      "Enter number8\n",
      "num is even\n"
     ]
    }
   ],
   "source": [
    "num = int(input (\"Enter number=\"))\n",
    "if num % 2==0:\n",
    "    print (\"num is even\")\n",
    "else :\n",
    "    print (\"num is odd\")"
   ]
  },
  {
   "cell_type": "code",
   "execution_count": 55,
   "metadata": {},
   "outputs": [
    {
     "name": "stdout",
     "output_type": "stream",
     "text": [
      "Enter number=7\n",
      "num is odd\n"
     ]
    }
   ],
   "source": [
    "num = int(input (\"Enter number=\"))\n",
    "if num % 2==0:\n",
    "    print (\"num is even\")\n",
    "else :\n",
    "    print (\"num is odd\")"
   ]
  },
  {
   "cell_type": "markdown",
   "metadata": {},
   "source": [
    "# Else and Else if Statements"
   ]
  },
  {
   "cell_type": "code",
   "execution_count": 72,
   "metadata": {},
   "outputs": [
    {
     "name": "stdout",
     "output_type": "stream",
     "text": [
      "Enter your age :56\n",
      "Do you have a valid ticketyes\n",
      "Welcome\n"
     ]
    }
   ],
   "source": [
    "age= int(input(\"Enter your age :\"))\n",
    "ticket = input(\"Do you have a valid ticket\")\n",
    "if age >=18 and ticket == \"yes\":\n",
    "    print (\"Welcome\")\n",
    "else:\n",
    "    print(\"Beta Ghar Jao\")"
   ]
  },
  {
   "cell_type": "code",
   "execution_count": 67,
   "metadata": {},
   "outputs": [
    {
     "name": "stdout",
     "output_type": "stream",
     "text": [
      "Enter your age :34\n",
      "Do you have a valid ticketno\n",
      "age is valid\n"
     ]
    }
   ],
   "source": [
    "age = int(input(\"Enter your age :\"))\n",
    "ticket = input (\"Do you have a valid ticket\")\n",
    "if age >=18:\n",
    "    print (\"age is valid\")\n",
    "    if ticket == \"yes\":\n",
    "        print (\"ticke is ok\")\n",
    "        print (\"Welcome\")\n",
    "else:\n",
    "    print(\"Beta Ghar Jao\")"
   ]
  },
  {
   "cell_type": "code",
   "execution_count": 73,
   "metadata": {},
   "outputs": [
    {
     "name": "stdout",
     "output_type": "stream",
     "text": [
      "Enter your age :778\n",
      "age is valid\n",
      "Do you have a valid tickettumay ia hai\n"
     ]
    }
   ],
   "source": [
    "age= int(input  (\"Enter your age :\"))\n",
    "if age >=18:\n",
    "    print(\"age is valid\")\n",
    "    ticket = input(\"Do you have a valid ticket\")\n",
    "    if ticket == \"yes\":\n",
    "        print (\"ticket is ok\")\n",
    "        print (\"Welcome\")\n",
    "else:\n",
    "    print(\"Beta Ghar Jao\")\n",
    "    "
   ]
  },
  {
   "cell_type": "code",
   "execution_count": 75,
   "metadata": {},
   "outputs": [
    {
     "name": "stdout",
     "output_type": "stream",
     "text": [
      "Enter your age :44\n",
      "Do you have a valid CNICno\n",
      "Beta Ghar Jao\n"
     ]
    }
   ],
   "source": [
    "age= int(input(\"Enter your age :\"))\n",
    "CNIC = input(\"Do you have a valid CNIC\")\n",
    "if age >=18 and CNIC == \"yes\":\n",
    "    print (\"You are eligible to vote\")\n",
    "else:\n",
    "    print(\"Beta Ghar Jao\")"
   ]
  },
  {
   "cell_type": "code",
   "execution_count": null,
   "metadata": {},
   "outputs": [],
   "source": []
  },
  {
   "cell_type": "code",
   "execution_count": null,
   "metadata": {},
   "outputs": [],
   "source": []
  }
 ],
 "metadata": {
  "kernelspec": {
   "display_name": "Python 3",
   "language": "python",
   "name": "python3"
  },
  "language_info": {
   "codemirror_mode": {
    "name": "ipython",
    "version": 3
   },
   "file_extension": ".py",
   "mimetype": "text/x-python",
   "name": "python",
   "nbconvert_exporter": "python",
   "pygments_lexer": "ipython3",
   "version": "3.7.3"
  }
 },
 "nbformat": 4,
 "nbformat_minor": 2
}
