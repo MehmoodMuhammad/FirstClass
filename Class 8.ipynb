{
 "cells": [
  {
   "cell_type": "code",
   "execution_count": 7,
   "metadata": {},
   "outputs": [
    {
     "name": "stdout",
     "output_type": "stream",
     "text": [
      "Order is given by : Mehmood\n",
      "Size of pizza is : large\n",
      "Toppings are:\n",
      "cheese\n",
      "mushroom\n"
     ]
    }
   ],
   "source": [
    "def pizza(name , size , *toppings):\n",
    "    print(f\"Order is given by : {name}\")\n",
    "    print(f\"Size of pizza is : {size}\")\n",
    "    print(\"Toppings are:\")\n",
    "    for topping in toppings:\n",
    "        print(topping)\n",
    "pizza (\"Mehmood\" , \"large\" , \"cheese\" , \"mushroom\")"
   ]
  },
  {
   "cell_type": "code",
   "execution_count": 5,
   "metadata": {},
   "outputs": [
    {
     "name": "stdout",
     "output_type": "stream",
     "text": [
      "Enter basic salary = 50000\n",
      "Enter total value of sales = 78000\n"
     ]
    }
   ],
   "source": [
    "basic = int(input(\"Enter basic salary = \"))\n",
    "sales = int(input(\"Enter total value of sales = \"))"
   ]
  },
  {
   "cell_type": "code",
   "execution_count": 6,
   "metadata": {},
   "outputs": [],
   "source": [
    "def commision_calculator(sales):\n",
    "    if sales >= 100000:\n",
    "        percentage = 30\n",
    "    elif sales >= 50000:\n",
    "        percentage = 20\n",
    "    elif sales >= 30000:\n",
    "        percentage = 10\n",
    "    elif sales >= 10000:\n",
    "        percentage = 5\n",
    "    else:\n",
    "        precentage = 0\n",
    "    commision = sales*(percentage/100)\n",
    "    return commision"
   ]
  },
  {
   "cell_type": "code",
   "execution_count": 7,
   "metadata": {},
   "outputs": [
    {
     "ename": "NameError",
     "evalue": "name 'commision' is not defined",
     "output_type": "error",
     "traceback": [
      "\u001b[1;31m---------------------------------------------------------------------------\u001b[0m",
      "\u001b[1;31mNameError\u001b[0m                                 Traceback (most recent call last)",
      "\u001b[1;32m<ipython-input-7-fa1dbe08aa60>\u001b[0m in \u001b[0;36m<module>\u001b[1;34m\u001b[0m\n\u001b[0;32m      2\u001b[0m     \u001b[0mtotal\u001b[0m \u001b[1;33m=\u001b[0m \u001b[0mbasic\u001b[0m \u001b[1;33m+\u001b[0m \u001b[0mcommision\u001b[0m\u001b[1;33m\u001b[0m\u001b[1;33m\u001b[0m\u001b[0m\n\u001b[0;32m      3\u001b[0m     \u001b[0mprint\u001b[0m\u001b[1;33m(\u001b[0m\u001b[1;34mf\"Your salary is : {total}\"\u001b[0m\u001b[1;33m)\u001b[0m\u001b[1;33m\u001b[0m\u001b[1;33m\u001b[0m\u001b[0m\n\u001b[1;32m----> 4\u001b[1;33m \u001b[0msalary\u001b[0m\u001b[1;33m(\u001b[0m\u001b[0mbasic\u001b[0m \u001b[1;33m,\u001b[0m \u001b[0mcommision\u001b[0m\u001b[1;33m)\u001b[0m\u001b[1;33m\u001b[0m\u001b[1;33m\u001b[0m\u001b[0m\n\u001b[0m",
      "\u001b[1;31mNameError\u001b[0m: name 'commision' is not defined"
     ]
    }
   ],
   "source": [
    "def salary(basic , commision):\n",
    "    total = basic + commision\n",
    "    print(f\"Your salary is : {total}\")\n",
    "salary(basic , commision)"
   ]
  },
  {
   "cell_type": "code",
   "execution_count": 9,
   "metadata": {},
   "outputs": [
    {
     "name": "stdout",
     "output_type": "stream",
     "text": [
      "Enter basic salary = 70000\n",
      "Enter total value of sales = 50000\n",
      "Your salary is : 80000.0\n"
     ]
    }
   ],
   "source": [
    "basic = int(input(\"Enter basic salary = \"))\n",
    "sales = int(input(\"Enter total value of sales = \"))\n",
    "\n",
    "def salary(basic , sales):\n",
    "    if sales >= 100000:\n",
    "        percentage = 30\n",
    "    elif sales >= 50000:\n",
    "        percentage = 20\n",
    "    elif sales >= 30000:\n",
    "        percentage = 10\n",
    "    elif sales >= 10000:\n",
    "        percentage = 5\n",
    "    else:\n",
    "        precentage = 0\n",
    "    commision = sales*(percentage/100)\n",
    "    total = basic + commision\n",
    "    print(f\"Your salary is : {total}\")\n",
    "salary(basic , sales)"
   ]
  },
  {
   "cell_type": "code",
   "execution_count": 10,
   "metadata": {},
   "outputs": [
    {
     "name": "stdout",
     "output_type": "stream",
     "text": [
      "0\n",
      "1\n",
      "2\n",
      "3\n",
      "4\n",
      "5\n",
      "6\n",
      "7\n",
      "8\n",
      "9\n"
     ]
    }
   ],
   "source": [
    "for a in range(10):\n",
    "    print(a)"
   ]
  },
  {
   "cell_type": "code",
   "execution_count": 18,
   "metadata": {},
   "outputs": [
    {
     "name": "stdout",
     "output_type": "stream",
     "text": [
      "0\n",
      "1\n",
      "2\n",
      "3\n",
      "4\n",
      "5\n",
      "6\n",
      "7\n",
      "8\n",
      "9\n"
     ]
    }
   ],
   "source": [
    "a = 0\n",
    "while a < 10:\n",
    "    print(a)\n",
    "    a += 1"
   ]
  },
  {
   "cell_type": "markdown",
   "metadata": {},
   "source": [
    "# Classes"
   ]
  },
  {
   "cell_type": "code",
   "execution_count": 21,
   "metadata": {},
   "outputs": [],
   "source": [
    "class Patient():\n",
    "    def __init__ (self, pid, pname, disease, age, gender):\n",
    "        self.pid = pid\n",
    "        self.pname = pname\n",
    "        self.disease = disease\n",
    "        self.age = age\n",
    "        self.gender = gender\n",
    "        \n"
   ]
  },
  {
   "cell_type": "code",
   "execution_count": 24,
   "metadata": {},
   "outputs": [],
   "source": [
    "p1 = Patient(111, \"Gabbal\" , \"TB\" , 34 ,\"male\")"
   ]
  },
  {
   "cell_type": "code",
   "execution_count": 25,
   "metadata": {},
   "outputs": [],
   "source": [
    "p2 = Patient(112 ,\"Samba\" ,\"wounded\" , 45 , \"male\")"
   ]
  },
  {
   "cell_type": "code",
   "execution_count": 26,
   "metadata": {},
   "outputs": [
    {
     "data": {
      "text/plain": [
       "111"
      ]
     },
     "execution_count": 26,
     "metadata": {},
     "output_type": "execute_result"
    }
   ],
   "source": [
    "p1.pid"
   ]
  },
  {
   "cell_type": "code",
   "execution_count": 27,
   "metadata": {},
   "outputs": [
    {
     "data": {
      "text/plain": [
       "34"
      ]
     },
     "execution_count": 27,
     "metadata": {},
     "output_type": "execute_result"
    }
   ],
   "source": [
    "p1.age"
   ]
  },
  {
   "cell_type": "code",
   "execution_count": 28,
   "metadata": {},
   "outputs": [
    {
     "data": {
      "text/plain": [
       "45"
      ]
     },
     "execution_count": 28,
     "metadata": {},
     "output_type": "execute_result"
    }
   ],
   "source": [
    "p2.age"
   ]
  },
  {
   "cell_type": "code",
   "execution_count": 29,
   "metadata": {},
   "outputs": [],
   "source": [
    "class Student():\n",
    "    def __init__(self , name , sid , age):\n",
    "        self.name = name\n",
    "        self.sid = sid\n",
    "        self.age = age"
   ]
  },
  {
   "cell_type": "code",
   "execution_count": 30,
   "metadata": {},
   "outputs": [],
   "source": [
    "student1 = Student(sid = 35 , name =\"Mehmood\" ,age =22)"
   ]
  },
  {
   "cell_type": "code",
   "execution_count": 31,
   "metadata": {},
   "outputs": [
    {
     "data": {
      "text/plain": [
       "22"
      ]
     },
     "execution_count": 31,
     "metadata": {},
     "output_type": "execute_result"
    }
   ],
   "source": [
    "student1.age"
   ]
  },
  {
   "cell_type": "code",
   "execution_count": 32,
   "metadata": {},
   "outputs": [
    {
     "data": {
      "text/plain": [
       "'Mehmood'"
      ]
     },
     "execution_count": 32,
     "metadata": {},
     "output_type": "execute_result"
    }
   ],
   "source": [
    "student1.name"
   ]
  },
  {
   "cell_type": "code",
   "execution_count": 33,
   "metadata": {},
   "outputs": [
    {
     "data": {
      "text/plain": [
       "35"
      ]
     },
     "execution_count": 33,
     "metadata": {},
     "output_type": "execute_result"
    }
   ],
   "source": [
    "student1.sid"
   ]
  },
  {
   "cell_type": "code",
   "execution_count": null,
   "metadata": {},
   "outputs": [],
   "source": []
  }
 ],
 "metadata": {
  "kernelspec": {
   "display_name": "Python 3",
   "language": "python",
   "name": "python3"
  },
  "language_info": {
   "codemirror_mode": {
    "name": "ipython",
    "version": 3
   },
   "file_extension": ".py",
   "mimetype": "text/x-python",
   "name": "python",
   "nbconvert_exporter": "python",
   "pygments_lexer": "ipython3",
   "version": "3.7.3"
  }
 },
 "nbformat": 4,
 "nbformat_minor": 2
}
