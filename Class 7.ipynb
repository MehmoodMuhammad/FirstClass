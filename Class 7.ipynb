{
 "cells": [
  {
   "cell_type": "code",
   "execution_count": 22,
   "metadata": {},
   "outputs": [
    {
     "name": "stdout",
     "output_type": "stream",
     "text": [
      "16\n"
     ]
    }
   ],
   "source": [
    "def calculator(x , y , operator):\n",
    "    if operator == \"add\":\n",
    "        print(x + y)\n",
    "    elif operator == \"subtract\":\n",
    "        print(x - y)\n",
    "    elif operator == \"multiply\":\n",
    "        print(x * y)\n",
    "    else:\n",
    "        print(x / y)\n",
    "calculator(12 , 4 ,\"add\")"
   ]
  },
  {
   "cell_type": "code",
   "execution_count": 23,
   "metadata": {},
   "outputs": [
    {
     "name": "stdout",
     "output_type": "stream",
     "text": [
      "20\n"
     ]
    }
   ],
   "source": [
    "calculator(16 , 4 ,\"add\")"
   ]
  },
  {
   "cell_type": "code",
   "execution_count": 24,
   "metadata": {},
   "outputs": [
    {
     "name": "stdout",
     "output_type": "stream",
     "text": [
      "48\n"
     ]
    }
   ],
   "source": [
    "calculator(12 , 4 ,\"multiply\")"
   ]
  },
  {
   "cell_type": "code",
   "execution_count": 30,
   "metadata": {},
   "outputs": [
    {
     "name": "stdout",
     "output_type": "stream",
     "text": [
      "['Ahmed', 'saad', 'Saif', 'Khalid']\n"
     ]
    }
   ],
   "source": [
    "my_friends = [\"Ahmed\" , \"saad\" , \"Saif\" , \"Khalid\"]\n",
    "all_friends = []\n",
    "for friend in my_friends:\n",
    "    all_friends.append(friend)\n",
    "print(all_friends)"
   ]
  },
  {
   "cell_type": "code",
   "execution_count": 34,
   "metadata": {},
   "outputs": [
    {
     "name": "stdout",
     "output_type": "stream",
     "text": [
      "Ahmed\n",
      "saad\n",
      "Saif\n",
      "Khalid\n",
      "Khalid\n"
     ]
    }
   ],
   "source": [
    "my_friends = [\"Ahmed\" , \"saad\" , \"Saif\" , \"Khalid\"]\n",
    "all_friends = []\n",
    "for all_friends in my_friends:\n",
    "    print(all_friends)\n",
    "print(all_friends)"
   ]
  },
  {
   "cell_type": "code",
   "execution_count": 35,
   "metadata": {},
   "outputs": [
    {
     "name": "stdout",
     "output_type": "stream",
     "text": [
      "Khalid\n"
     ]
    }
   ],
   "source": [
    "print(all_friends)"
   ]
  },
  {
   "cell_type": "code",
   "execution_count": 37,
   "metadata": {},
   "outputs": [
    {
     "name": "stdout",
     "output_type": "stream",
     "text": [
      "['Ahmed', 'saad', 'Saif', 'Khalid']\n"
     ]
    }
   ],
   "source": [
    "def append_list():\n",
    "    my_friends = [\"Ahmed\" , \"saad\" , \"Saif\" , \"Khalid\"]\n",
    "    all_friends = []\n",
    "    for friend in my_friends:\n",
    "        all_friends.append(friend)\n",
    "    print(all_friends)\n",
    "append_list()"
   ]
  },
  {
   "cell_type": "code",
   "execution_count": 39,
   "metadata": {},
   "outputs": [
    {
     "name": "stdout",
     "output_type": "stream",
     "text": [
      "Mehmood Muhammad\n"
     ]
    }
   ],
   "source": [
    "def my_name(name1 , name2):\n",
    "    print(name1 + \" \" + name2)\n",
    "my_name(\"Mehmood\" , \"Muhammad\")"
   ]
  },
  {
   "cell_type": "code",
   "execution_count": 40,
   "metadata": {},
   "outputs": [
    {
     "name": "stdout",
     "output_type": "stream",
     "text": [
      "Muhammad Mehmood\n"
     ]
    }
   ],
   "source": [
    "def my_name(name1 , name2):\n",
    "    print(name1 + \" \" + name2)\n",
    "my_name(\"Muhammad\" , \"Mehmood\")"
   ]
  },
  {
   "cell_type": "code",
   "execution_count": 42,
   "metadata": {},
   "outputs": [
    {
     "name": "stdout",
     "output_type": "stream",
     "text": [
      "Mehmood Muhammad\n"
     ]
    }
   ],
   "source": [
    "def my_name(name1 , name2):\n",
    "    print(name1 + \" \" + name2)\n",
    "my_name(name2=\"Muhammad\" , name1=\"Mehmood\") #positional argument"
   ]
  },
  {
   "cell_type": "code",
   "execution_count": 43,
   "metadata": {},
   "outputs": [
    {
     "data": {
      "text/plain": [
       "10"
      ]
     },
     "execution_count": 43,
     "metadata": {},
     "output_type": "execute_result"
    }
   ],
   "source": [
    "def f_return():\n",
    "    return 10\n",
    "f_return()"
   ]
  },
  {
   "cell_type": "code",
   "execution_count": null,
   "metadata": {},
   "outputs": [],
   "source": []
  }
 ],
 "metadata": {
  "kernelspec": {
   "display_name": "Python 3",
   "language": "python",
   "name": "python3"
  },
  "language_info": {
   "codemirror_mode": {
    "name": "ipython",
    "version": 3
   },
   "file_extension": ".py",
   "mimetype": "text/x-python",
   "name": "python",
   "nbconvert_exporter": "python",
   "pygments_lexer": "ipython3",
   "version": "3.7.3"
  }
 },
 "nbformat": 4,
 "nbformat_minor": 2
}
